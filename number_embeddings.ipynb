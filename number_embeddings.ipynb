{
 "cells": [
  {
   "cell_type": "markdown",
   "metadata": {},
   "source": [
    "# Testing out vector search on quantitative queries\n",
    "\n",
    "This is the notebook I created to test out the effectiveness of vector search with queries containing quantitative information.\n",
    "\n",
    "### Setting up your environment"
   ]
  },
  {
   "cell_type": "code",
   "execution_count": 121,
   "metadata": {},
   "outputs": [],
   "source": [
    "import os\n",
    "\n",
    "os.environ[\"AZURE_OPENAI_API_KEY\"] = \"\" # your API key here\n",
    "os.environ[\"AZURE_OPENAI_ENDPOINT\"] = \"\" # your endpoint here\n",
    "os.environ[\"OPENAI_API_VERSION\"] = \"2023-05-15\" # choose the API version you want to use"
   ]
  },
  {
   "cell_type": "code",
   "execution_count": 89,
   "metadata": {},
   "outputs": [],
   "source": [
    "from langchain_openai import AzureOpenAIEmbeddings\n",
    "\n",
    "\n",
    "# create an embeddings object\n",
    "embeddings = AzureOpenAIEmbeddings(\n",
    "    azure_deployment=\"\", # the name of your OpenAI embeddings deployment here\n",
    ")"
   ]
  },
  {
   "cell_type": "markdown",
   "metadata": {},
   "source": [
    "### Build an index"
   ]
  },
  {
   "cell_type": "code",
   "execution_count": 101,
   "metadata": {},
   "outputs": [
    {
     "name": "stdout",
     "output_type": "stream",
     "text": [
      "I went to the store and bought 0 apples.\n",
      "I went to the store and bought 1 apples.\n",
      "I went to the store and bought 2 apples.\n",
      "I went to the store and bought 3 apples.\n",
      "I went to the store and bought 4 apples.\n",
      "I went to the store and bought 5 apples.\n",
      "I went to the store and bought 6 apples.\n",
      "I went to the store and bought 7 apples.\n",
      "I went to the store and bought 8 apples.\n",
      "I went to the store and bought 9 apples.\n"
     ]
    }
   ],
   "source": [
    "sentences = []\n",
    "\n",
    "for i in range(1000):\n",
    "    sentences.append(f\"I went to the store and bought {i} apples.\")\n",
    "    \n",
    "for s in sentences[:10]:\n",
    "    print(s)"
   ]
  },
  {
   "cell_type": "code",
   "execution_count": 102,
   "metadata": {},
   "outputs": [],
   "source": [
    "import pandas as pd\n",
    "\n",
    "# create a vector database in Pandas\n",
    "# one column contains our 1,000 sentences (these will be returned as search results)\n",
    "df = pd.DataFrame(sentences, columns=[\"sentence\"])\n",
    "\n",
    "# another column will contain sentence embeddings, which we will vectorize here with OpenAI's embeddings model (these will actually be 'searched')\n",
    "df[\"embedding\"] = embeddings.embed_documents(sentences)"
   ]
  },
  {
   "cell_type": "markdown",
   "metadata": {},
   "source": [
    "### Create a basic vector search function"
   ]
  },
  {
   "cell_type": "code",
   "execution_count": 103,
   "metadata": {},
   "outputs": [],
   "source": [
    "import langchain_community.utils.math as math\n",
    "\n",
    "def search(query, index, top=5):\n",
    "\n",
    "    # get embedding for the query being searched\n",
    "    query_embedding = embeddings.embed_query(query)\n",
    "\n",
    "    # create a new df column of each indexed sentence's similarity to the query\n",
    "    df['similarity'] = df['embedding'].apply(lambda x: math.cosine_similarity([query_embedding], [x])[0])\n",
    "\n",
    "    # sort the df by the \"similarity\" column\n",
    "    sorted_df = df.sort_values(by='similarity', ascending=False)\n",
    "    sorted_df.reset_index(drop=True, inplace=True)\n",
    "\n",
    "    # return the top X rows\n",
    "    top_rows = sorted_df.head(top)\n",
    "\n",
    "    # print the sorted df with the top X rows\n",
    "    print(\"The top {0} closest embeddings for '{1}' are:\".format(top, query))\n",
    "    print(top_rows['sentence'], end=\"\\n\\n\")\n",
    "\n",
    "    return None"
   ]
  },
  {
   "cell_type": "markdown",
   "metadata": {},
   "source": [
    "### Experiment with vector search"
   ]
  },
  {
   "cell_type": "code",
   "execution_count": 120,
   "metadata": {},
   "outputs": [
    {
     "name": "stdout",
     "output_type": "stream",
     "text": [
      "The top 5 closest embeddings for 'I went to the store and bought π apples.' are:\n",
      "0    I went to the store and bought 925 apples.\n",
      "1    I went to the store and bought 201 apples.\n",
      "2    I went to the store and bought 901 apples.\n",
      "3    I went to the store and bought 805 apples.\n",
      "4      I went to the store and bought 2 apples.\n",
      "Name: sentence, dtype: object\n",
      "\n"
     ]
    }
   ],
   "source": [
    "q = \"I went to the store and bought π apples.\"\n",
    "\n",
    "search(q, df, top=5)"
   ]
  },
  {
   "cell_type": "code",
   "execution_count": 122,
   "metadata": {},
   "outputs": [],
   "source": [
    "# if you want to use the 'apples' sentence to test a bunch of numbers in a batch, you can create a test set\n",
    "test_set = [\"5\", \"10\", \"16\", \"100\", \"7 + 5\", \"5.76\", \"seventy-seven\", \"forty-three and a half\", \"eleventy-one\", \"83.4\", \"2.3\", \"1.618\", \"-14\", \"a dozen\", \"five dozen\", \"2.5 dozen\", \"four score\", \"pi\", \"euler's number of\", \"avogadro's number of\"]"
   ]
  },
  {
   "cell_type": "code",
   "execution_count": 106,
   "metadata": {},
   "outputs": [
    {
     "name": "stdout",
     "output_type": "stream",
     "text": [
      "The top 5 closest embeddings for 'I went to the store and bought 5 apples.' are:\n",
      "0      I went to the store and bought 5 apples.\n",
      "1      I went to the store and bought 4 apples.\n",
      "2    I went to the store and bought 500 apples.\n",
      "3      I went to the store and bought 6 apples.\n",
      "4     I went to the store and bought 25 apples.\n",
      "Name: sentence, dtype: object\n",
      "\n",
      "The top 5 closest embeddings for 'I went to the store and bought 10 apples.' are:\n",
      "0    I went to the store and bought 10 apples.\n",
      "1     I went to the store and bought 9 apples.\n",
      "2    I went to the store and bought 11 apples.\n",
      "3    I went to the store and bought 20 apples.\n",
      "4     I went to the store and bought 8 apples.\n",
      "Name: sentence, dtype: object\n",
      "\n",
      "The top 5 closest embeddings for 'I went to the store and bought 16 apples.' are:\n",
      "0    I went to the store and bought 16 apples.\n",
      "1    I went to the store and bought 17 apples.\n",
      "2    I went to the store and bought 14 apples.\n",
      "3    I went to the store and bought 32 apples.\n",
      "4    I went to the store and bought 15 apples.\n",
      "Name: sentence, dtype: object\n",
      "\n",
      "The top 5 closest embeddings for 'I went to the store and bought 100 apples.' are:\n",
      "0    I went to the store and bought 100 apples.\n",
      "1    I went to the store and bought 101 apples.\n",
      "2    I went to the store and bought 200 apples.\n",
      "3     I went to the store and bought 99 apples.\n",
      "4    I went to the store and bought 102 apples.\n",
      "Name: sentence, dtype: object\n",
      "\n",
      "The top 5 closest embeddings for 'I went to the store and bought 1000 apples.' are:\n",
      "0    I went to the store and bought 100 apples.\n",
      "1    I went to the store and bought 999 apples.\n",
      "2    I went to the store and bought 900 apples.\n",
      "3    I went to the store and bought 800 apples.\n",
      "4    I went to the store and bought 990 apples.\n",
      "Name: sentence, dtype: object\n",
      "\n",
      "The top 5 closest embeddings for 'I went to the store and bought 5.76 apples.' are:\n",
      "0      I went to the store and bought 5 apples.\n",
      "1     I went to the store and bought 76 apples.\n",
      "2    I went to the store and bought 785 apples.\n",
      "3    I went to the store and bought 765 apples.\n",
      "4      I went to the store and bought 6 apples.\n",
      "Name: sentence, dtype: object\n",
      "\n",
      "The top 5 closest embeddings for 'I went to the store and bought seventy-seven apples.' are:\n",
      "0    I went to the store and bought 77 apples.\n",
      "1    I went to the store and bought 67 apples.\n",
      "2    I went to the store and bought 87 apples.\n",
      "3    I went to the store and bought 78 apples.\n",
      "4    I went to the store and bought 70 apples.\n",
      "Name: sentence, dtype: object\n",
      "\n",
      "The top 5 closest embeddings for 'I went to the store and bought forty-three and a half apples.' are:\n",
      "0    I went to the store and bought 43 apples.\n",
      "1    I went to the store and bought 41 apples.\n",
      "2    I went to the store and bought 45 apples.\n",
      "3    I went to the store and bought 44 apples.\n",
      "4    I went to the store and bought 40 apples.\n",
      "Name: sentence, dtype: object\n",
      "\n",
      "The top 5 closest embeddings for 'I went to the store and bought eleventy-one apples.' are:\n",
      "0     I went to the store and bought 11 apples.\n",
      "1     I went to the store and bought 71 apples.\n",
      "2    I went to the store and bought 111 apples.\n",
      "3     I went to the store and bought 21 apples.\n",
      "4     I went to the store and bought 61 apples.\n",
      "Name: sentence, dtype: object\n",
      "\n",
      "The top 5 closest embeddings for 'I went to the store and bought 83.4 apples.' are:\n",
      "0     I went to the store and bought 83 apples.\n",
      "1     I went to the store and bought 84 apples.\n",
      "2    I went to the store and bought 843 apples.\n",
      "3     I went to the store and bought 81 apples.\n",
      "4    I went to the store and bought 833 apples.\n",
      "Name: sentence, dtype: object\n",
      "\n",
      "The top 5 closest embeddings for 'I went to the store and bought 2.3 apples.' are:\n",
      "0      I went to the store and bought 2 apples.\n",
      "1     I went to the store and bought 23 apples.\n",
      "2    I went to the store and bought 233 apples.\n",
      "3    I went to the store and bought 323 apples.\n",
      "4    I went to the store and bought 283 apples.\n",
      "Name: sentence, dtype: object\n",
      "\n",
      "The top 5 closest embeddings for 'I went to the store and bought 1.618 apples.' are:\n",
      "0    I went to the store and bought 618 apples.\n",
      "1    I went to the store and bought 616 apples.\n",
      "2    I went to the store and bought 619 apples.\n",
      "3    I went to the store and bought 681 apples.\n",
      "4    I went to the store and bought 638 apples.\n",
      "Name: sentence, dtype: object\n",
      "\n",
      "The top 5 closest embeddings for 'I went to the store and bought -14 apples.' are:\n",
      "0     I went to the store and bought 14 apples.\n",
      "1     I went to the store and bought 34 apples.\n",
      "2     I went to the store and bought 13 apples.\n",
      "3    I went to the store and bought 142 apples.\n",
      "4     I went to the store and bought 16 apples.\n",
      "Name: sentence, dtype: object\n",
      "\n",
      "The top 5 closest embeddings for 'I went to the store and bought a dozen apples.' are:\n",
      "0    I went to the store and bought 12 apples.\n",
      "1     I went to the store and bought 6 apples.\n",
      "2    I went to the store and bought 10 apples.\n",
      "3    I went to the store and bought 16 apples.\n",
      "4    I went to the store and bought 24 apples.\n",
      "Name: sentence, dtype: object\n",
      "\n",
      "The top 5 closest embeddings for 'I went to the store and bought five dozen apples.' are:\n",
      "0      I went to the store and bought 5 apples.\n",
      "1     I went to the store and bought 50 apples.\n",
      "2      I went to the store and bought 6 apples.\n",
      "3    I went to the store and bought 500 apples.\n",
      "4     I went to the store and bought 25 apples.\n",
      "Name: sentence, dtype: object\n",
      "\n",
      "The top 5 closest embeddings for 'I went to the store and bought 2.5 dozen apples.' are:\n",
      "0      I went to the store and bought 2 apples.\n",
      "1     I went to the store and bought 25 apples.\n",
      "2    I went to the store and bought 250 apples.\n",
      "3      I went to the store and bought 5 apples.\n",
      "4    I went to the store and bought 625 apples.\n",
      "Name: sentence, dtype: object\n",
      "\n",
      "The top 5 closest embeddings for 'I went to the store and bought four score apples.' are:\n",
      "0      I went to the store and bought 4 apples.\n",
      "1    I went to the store and bought 400 apples.\n",
      "2     I went to the store and bought 40 apples.\n",
      "3    I went to the store and bought 104 apples.\n",
      "4    I went to the store and bought 804 apples.\n",
      "Name: sentence, dtype: object\n",
      "\n",
      "The top 5 closest embeddings for 'I went to the store and bought pi apples.' are:\n",
      "0      I went to the store and bought 2 apples.\n",
      "1    I went to the store and bought 201 apples.\n",
      "2    I went to the store and bought 808 apples.\n",
      "3    I went to the store and bought 805 apples.\n",
      "4    I went to the store and bought 925 apples.\n",
      "Name: sentence, dtype: object\n",
      "\n",
      "The top 5 closest embeddings for 'I went to the store and bought euler's number apples.' are:\n",
      "0    I went to the store and bought 201 apples.\n",
      "1    I went to the store and bought 529 apples.\n",
      "2    I went to the store and bought 123 apples.\n",
      "3    I went to the store and bought 649 apples.\n",
      "4    I went to the store and bought 666 apples.\n",
      "Name: sentence, dtype: object\n",
      "\n"
     ]
    }
   ],
   "source": [
    "# run the search function on the test set\n",
    "for item in test_set:\n",
    "    search(\"I went to the store and bought {0} apples.\".format(item), df)"
   ]
  }
 ],
 "metadata": {
  "kernelspec": {
   "display_name": "base",
   "language": "python",
   "name": "python3"
  },
  "language_info": {
   "codemirror_mode": {
    "name": "ipython",
    "version": 3
   },
   "file_extension": ".py",
   "mimetype": "text/x-python",
   "name": "python",
   "nbconvert_exporter": "python",
   "pygments_lexer": "ipython3",
   "version": "3.11.5"
  }
 },
 "nbformat": 4,
 "nbformat_minor": 2
}
